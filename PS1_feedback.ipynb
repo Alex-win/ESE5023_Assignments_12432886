{
 "cells": [
  {
   "cell_type": "markdown",
   "id": "c75d8c64-9409-4905-812a-c3b978e91427",
   "metadata": {},
   "source": [
    "# Assignment 01 —— by Jie Ou (ID : 12432886)"
   ]
  },
  {
   "cell_type": "markdown",
   "id": "77ff17c0",
   "metadata": {},
   "source": [
    "### Score: `[107]`\n",
    "\n",
    "Q1. `[10]` Good job! But be careful\n",
    "\n",
    "Q2. `[10]` Good job!\n",
    "\n",
    "Q3. `[16.5+5.5]` 很好的思路！最后输出注意引号就完美了。\n",
    "\n",
    "Q4. `[5.5+16.5+5.5]` Quite great job!\n",
    "\n",
    "Q5. `[5.5+26.5+5.5]` Good job! 个人觉得参数里加上matrix就更完美一点\n",
    "\n",
    "各题注释用`### Note`给出，请自行查阅。"
   ]
  },
  {
   "cell_type": "markdown",
   "id": "023e91c0-9d06-432c-9a3d-168d97c8b1df",
   "metadata": {},
   "source": [
    "## 1. Flowchart"
   ]
  },
  {
   "cell_type": "code",
   "execution_count": 1,
   "id": "f884c3a6-e229-4cf4-b6c1-47f0e9b37f02",
   "metadata": {},
   "outputs": [
    {
     "name": "stdout",
     "output_type": "stream",
     "text": [
      "5\n"
     ]
    }
   ],
   "source": [
    "# 1题\n",
    "def Print_values(a,b,c):\n",
    "    if a > b:\n",
    "        if b > c:\n",
    "            ls = [a,b,c]\n",
    "        else:\n",
    "            if a > c:\n",
    "                ls = [a,c,b]\n",
    "            else:\n",
    "                ls = [c.a,b] ###Note: 应为逗号\n",
    "    else:\n",
    "        if b > c:\n",
    "            print('The path has been disconnected.')\n",
    "        else:\n",
    "            ls = [c,b,a]\n",
    "    return ls[0]+ls[1]-10*ls[2]\n",
    "\n",
    "print(Print_values(10,5,1))"
   ]
  },
  {
   "cell_type": "markdown",
   "id": "2d987332-af7c-4eea-b29b-8707260ad131",
   "metadata": {},
   "source": [
    "## 2. Continuous ceiling function"
   ]
  },
  {
   "cell_type": "code",
   "execution_count": 6,
   "id": "5353428a-8a94-4013-967f-dad388a3913f",
   "metadata": {},
   "outputs": [
    {
     "name": "stdout",
     "output_type": "stream",
     "text": [
      "F(55) = 169\n",
      "F(64) = 195\n",
      "F(58) = 177\n",
      "F(35) = 107\n",
      "F(70) = 211\n",
      "F(15) = 45\n",
      "F(45) = 135\n",
      "F(66) = 199\n",
      "F(71) = 213\n",
      "F(3) = 7\n"
     ]
    }
   ],
   "source": [
    "# 2题\n",
    "# 要计算 F(10)，ceil(10/3)=4，则需要 F(4)；\n",
    "# 要计算 F(4)，ceil(4/3)=2，则需要 F(2)；\n",
    "# 要计算 F(2)，ceil(2/3)=1，则需要 F(1)，题目已知F(1) = 1\n",
    "from math import ceil\n",
    "import random\n",
    "\n",
    "def find(x):\n",
    "    if x > 3: # 若x>3，则ceil(x/3)>1，需要递归F(ceil(x/3))的结果\n",
    "        return find(ceil(x/3))+2*x\n",
    "    else:\n",
    "        if x == 1 : # 若x=1，则F(1)=1\n",
    "            return 1\n",
    "        else:       # 若x=2/3，则F(x)=F(1)+2x=1+2x\n",
    "            return 1+2*x\n",
    "            ### Note: 这步省略也行，可以把第一个条件写成x>1，会递归到所有情况\n",
    "N = 10\n",
    "ls1 = [random.randint(1,100) for x in range(N)]  # 创建 N 个正整数的列表\n",
    "for i in ls1:\n",
    "    print(f'F({i}) = {find(i)}')"
   ]
  },
  {
   "cell_type": "markdown",
   "id": "fac8c48d-1a76-4d47-baac-54e74eac113f",
   "metadata": {},
   "source": [
    "## 3. Dice rolling"
   ]
  },
  {
   "cell_type": "markdown",
   "id": "55524258-ca56-449a-80ff-1932cbd14880",
   "metadata": {},
   "source": [
    "**解题思路：**\n",
    "- 计算10个骰子总和为30的可能，即Sum【9个骰子总和分别为29（即30-1）、28（即30-2）、...、24（即30-6）的可能】\n",
    "- 若要计算9个骰子总和分别为29的可能，则计算Sum【8个骰子总和分别为28、...、23的可能】\n",
    "- ...依次递归\n",
    "- 若计算的总和小于骰子数目（eg.3个骰子总和为2）OR 总和大于6倍的骰子数目（eg. 3个骰子总和为18），则可能性为0\n",
    "- 最后递归至计算1个骰子总和为1、2、3、4、5、6的可能性，即1（就一种可能）"
   ]
  },
  {
   "cell_type": "code",
   "execution_count": 4,
   "id": "baf56b8d-5fa5-44da-84fd-a87cd551b92a",
   "metadata": {},
   "outputs": [
    {
     "name": "stdout",
     "output_type": "stream",
     "text": [
      "Maximum of Number_of_ways is : 4395456. \n",
      "Its corresponding x(number/total) is : 35.\n"
     ]
    }
   ],
   "source": [
    "# 3题\n",
    "## 3.1\n",
    "\n",
    "def Find_number_of_ways(num, total): # num为骰子数量，total为所有骰子数值的总和\n",
    "    if num <= total <= 6*num: # 计算的总和介于【骰子数目，6倍骰子数目】之间才有可能，否之可能性则为0\n",
    "        if num == 1: # 一个骰子掷出1、2、3、4、5、6的可能性为1\n",
    "            return 1\n",
    "        else:  \n",
    "            # 若用【n,m】表示 n 个骰子掷出总和为 m 的可能\n",
    "            # 则【n,m】=【n-1,m-1】+【n-1,m-2】+【n-1,m-3】+【n-1,m-4】+【n-1,m-5】+【n-1,m-6】\n",
    "            s = 0 # 初始化，用于累加（n-1）个骰子所有可能的投掷结果\n",
    "            for i in range(1,7):  # 遍历（n-1）骰子之外的【1】枚骰子的每个值(1、2、...、6)\n",
    "                s += Find_number_of_ways(num-1,total-i) # 累加（n-1）个骰子所有可能的投掷结果\n",
    "            return s\n",
    "\n",
    "    else: # （'总和 < 骰子数目' AND '总和 > 6*骰子数目'）的可能性为0\n",
    "        return 0\n",
    "\n",
    "## 3.2\n",
    "Number_of_ways = [] # 初始化列表，用以存储每个total所需的ways数目\n",
    "ways_max = 0  # 初始化最大值，用于找最大值\n",
    "\n",
    "for i in range(10,61):\n",
    "    i_ways = Find_number_of_ways(10, i)\n",
    "    Number_of_ways.append(i_ways)\n",
    "    if ways_max < i_ways:\n",
    "        ls_ways_max_total = [] # 创建空列表，同时若有更大的值则初始化列表，用于存储最大值对应的total\n",
    "        ways_max = i_ways # 将最大值更新\n",
    "        ls_ways_max_total.append(str(i))\n",
    "    elif ways_max == i_ways:\n",
    "        ls_ways_max_total.append(i) # 若有多个相同的最大值，则存储每个ways最大值对应的total\n",
    "print(f\"Maximum of Number_of_ways is : {ways_max}. \\nIts corresponding x(number/total) is : {'、'.join(ls_ways_max_total)}.\")"
   ]
  },
  {
   "cell_type": "markdown",
   "id": "ec3ff395-9c80-48e9-be3c-ce27dc416ed9",
   "metadata": {},
   "source": [
    "## 4. Dynamic programming"
   ]
  },
  {
   "cell_type": "code",
   "execution_count": 43,
   "id": "d9855ac1-4f51-4a78-9847-b1dc755cf23b",
   "metadata": {},
   "outputs": [
    {
     "data": {
      "text/plain": [
       "<function matplotlib.pyplot.show(close=None, block=None)>"
      ]
     },
     "execution_count": 43,
     "metadata": {},
     "output_type": "execute_result"
    },
    {
     "data": {
      "image/png": "[encoded data removed]",
      "text/plain": [
       "<Figure size 640x480 with 1 Axes>"
      ]
     },
     "metadata": {},
     "output_type": "display_data"
    }
   ],
   "source": [
    "# 4题\n",
    "## 4.1\n",
    "import random\n",
    "def Random_integer(N):\n",
    "    ls_num = [] # 初始化数组列表\n",
    "    for i in range(N):\n",
    "        ls_num.append(random.randint(0,10))\n",
    "    return ls_num\n",
    "## 4.2\n",
    "## 数据子集共有len个元素，分别可组成1、2、3、...、i、i+1、...、len个元素的子集\n",
    "## 对于有 i 个元素的子集集合，其每个元素应具有相同的权重，即每个元素在所有集合中出现的总数相同\n",
    "## 其中一个元素出现的次数，等于在剩下的(len-1)个样本中不重复抽取(i-1)个样本的情况，即排列组合C(len-1,i-1)\n",
    "## 则 i 个元素的子集的集合的平均值为，(sum[1、2、3、...、len] / i) * C(len-1,i-1)\n",
    "## 用 j 遍历1、2、3、...、i、i+1、...、len，将每i个元素子集集合的平均值相加，即得到总的平均值\n",
    "## eg.[1,2,3,4,5]数组4个元素的集合为{[1,2,3,4]、[1,2,3,5]、[1,2,4,5]、[1,3,4,5]、[2,3,4,5]}，1、2、3出现的次数为C(4,3)=4\n",
    "##    [1,2,3,4,5]数组4个元素的集合的平均值为(sum[1,2,3,4,5]/4)*C(4,3)=15/4*4=15\n",
    "##    [1,2,3,4,5]数组3个元素的集合的平均值为(sum[1,2,3,4,5]/3)*C(4,2)\n",
    "##    [1,2,3,4,5]数组2个元素的集合的平均值为(sum[1,2,3,4,5]/2)*C(4,1)\n",
    "##    [1,2,3,4,5]数组1个元素的集合的平均值为(sum[1,2,3,4,5]/1)*C(4,0)\n",
    "##    [1,2,3,4,5]数组5个元素的集合的平均值为(sum[1,2,3,4,5]/5)*C(4,4)\n",
    "def Sum_averages(array):\n",
    "    ave = 0 # 初始化平均值\n",
    "    for i in range(1,len(array)+1): # 遍历子集元素数目为1、2、...、i、...、len的情况\n",
    "        C0 = 1 # 初始化组合数\n",
    "        # 1 个元素时(i=1)，C(len-1,0)==1=C0（恒等于1）\n",
    "        if i != 1:  \n",
    "        # 2 个元素时，C(len-1,i-1) = (len-1) / (1)\n",
    "        # 3 个元素时，C(len-1,i-1) = (len-1)*(len-2) / (1*2)\n",
    "        # i 个元素时，C(len-1,i-1) = (len-1)*(len-2)*...*(len-(i-1)) / (1*2*...*(i-1))\n",
    "            for j in range(1,i):\n",
    "                C0 *= (len(array)-j)/j\n",
    "        ave += (sum(array)/i)*C0\n",
    "    return ave\n",
    "\n",
    "## 4.3\n",
    "N1 = []\n",
    "Total_sum_averages = []\n",
    "\n",
    "for i in range(1,101):\n",
    "    N1.append(i)\n",
    "    Total_sum_averages.append(Sum_averages(Random_integer(i)))\n",
    "    \n",
    "import matplotlib.pyplot as plt\n",
    "plt.plot(N1, Total_sum_averages)\n",
    "\n",
    "plt.xlabel(\"N\")\n",
    "plt.ylabel(\"Total_sum_averages\")\n",
    "plt.title(\"Total_sum_averages with N\")\n",
    "plt.show"
   ]
  },
  {
   "cell_type": "markdown",
   "id": "ea233c1e-3463-4a61-ba21-af7d70d0772a",
   "metadata": {},
   "source": [
    "图像结果描述：N个所有子集的平均值随着N的增加呈现指数型增长"
   ]
  },
  {
   "cell_type": "markdown",
   "id": "34841b38-1926-4dad-a2d7-61f98f2be0d8",
   "metadata": {},
   "source": [
    "## 5. Path counting"
   ]
  },
  {
   "cell_type": "code",
   "execution_count": 1,
   "id": "d47527eb-cfc3-4fae-aeb8-6dfc0d3dd875",
   "metadata": {},
   "outputs": [
    {
     "name": "stdout",
     "output_type": "stream",
     "text": [
      "0.323\n"
     ]
    }
   ],
   "source": [
    "# 5题\n",
    "## 5.1\n",
    "import random\n",
    "def create_matrix(N,M): # N为行数，M为列数\n",
    "    matrix_0 = [] \n",
    "    for i in range(N):\n",
    "        matrix_0.append([random.randint(0,1) for j in range(M)])    \n",
    "    matrix_0[0][0]=1    # 将左上角单元格填充为1\n",
    "    matrix_0[-1][-1]=1  # 将右下角单元格填充为1\n",
    "    return matrix_0\n",
    "\n",
    "## 5.2\n",
    "## 采用递归的方法，Count_path(N,M) = Count_path(N-1,M) + Count(N,M-1)\n",
    "## 即抵达(N,M)的路径数 = 抵达左边一格(N,M-1)的路径数 + 抵达上边一格(N-1,M)的路径数\n",
    "def Count_path(N,M): # N为行数，M为列数\n",
    "### Note: matrix没有传入函数奥，实际上是需要的，容易让人误解~传入matrix会更好一点，或者在函数中定义~\n",
    "    # 若能递归到起点 (1,1) 的位置则记为 1 条路线\n",
    "    if N==1 and M==1:\n",
    "        return 1\n",
    "    \n",
    "    # 若递归到第一行(N=1)，且此时M≠1，则路线只有向左边一格递归的方向\n",
    "    elif N==1:\n",
    "        # 若左边一格数字为 1，则能走通，继续向前递归\n",
    "        # 若左边一格数字为 0，则此路无法走通，即返回 0（表明没有这条路）\n",
    "        if matrix[N-1][M-2]==1:     # 第N行，在py中为N-1；M-1列，在py中为M-2（py中0,0是初始位置）\n",
    "            return Count_path(N,M-1)\n",
    "        else:\n",
    "            return 0 \n",
    "        \n",
    "    # 若递归到第一列(M=1)，且此时N≠1，则路线只有向上边一格递归的方向\n",
    "    elif M==1:\n",
    "        # 若上边一格数字为 1，则能走通，继续向前递归\n",
    "        # 若上边一格数字为 0，则此路无法走通，即返回 0（表明没有这条路）\n",
    "        if matrix[N-2][M-1]==1:\n",
    "            return Count_path(N-1,M)\n",
    "        else:\n",
    "            return 0\n",
    "    else:\n",
    "        # 当左边一格和上边一格数值均为 1 时说明都可走通\n",
    "        # 递归为：抵达左边一格的路径数 + 抵达上边一格的路径数\n",
    "        if matrix[N-1][M-2]==1 and matrix[N-2][M-1]==1:\n",
    "            return Count_path(N,M-1)+Count_path(N-1,M)\n",
    "        # 当左边一格或上边一格数值仅有一个 1 时，说明仅其中一条可通\n",
    "        # 递归为：抵达左边一格的路径数 OR 抵达上边一格的路径数\n",
    "        elif matrix[N-1][M-2]==1:\n",
    "            return Count_path(N,M-1)\n",
    "        elif matrix[N-2][M-1]==1:\n",
    "            return Count_path(N-1,M)\n",
    "        else:\n",
    "            return 0\n",
    "        \n",
    "## 5.3\n",
    "N_row = 10 # 行数\n",
    "M_col = 8 # 列数\n",
    "s = 0 # 初始化路径总数\n",
    "for i in range(1000):\n",
    "    matrix = create_matrix(N_row,M_col)\n",
    "    s += Count_path(N_row,M_col)\n",
    "    \n",
    "print(s/1000)  # 计算1000次运行的路径数平均值"
   ]
  }
 ],
 "metadata": {
  "kernelspec": {
   "display_name": "Python 3 (ipykernel)",
   "language": "python",
   "name": "python3"
  },
  "language_info": {
   "codemirror_mode": {
    "name": "ipython",
    "version": 3
   },
   "file_extension": ".py",
   "mimetype": "text/x-python",
   "name": "python",
   "nbconvert_exporter": "python",
   "pygments_lexer": "ipython3",
   "version": "3.8.10"
  }
 },
 "nbformat": 4,
 "nbformat_minor": 5
}
